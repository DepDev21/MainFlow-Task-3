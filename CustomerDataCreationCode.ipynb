import pandas as pd

# Create dataset with 20 entries
data = {
    'CustomerID': list(range(1, 21)),
    'Age': [19, 21, 23, 31, 22, 35, 23, 64, 30, 67,
            35, 58, 24, 37, 59, 25, 45, 40, 60, 21],
    'Annual Income': [15, 16, 17, 18, 19, 20, 21, 22, 23, 24,
                      25, 26, 27, 28, 29, 30, 31, 32, 33, 34],
    'Spending Score': [39, 81, 77, 40, 76, 6, 94, 3, 72, 14,
                       99, 15, 77, 13, 79, 35, 66, 29, 98, 15]
}

df = pd.DataFrame(data)

# Save as CSV
df.to_csv("customer_data.csv", index=False)

print("✅ customer_data.csv file created successfully!")
